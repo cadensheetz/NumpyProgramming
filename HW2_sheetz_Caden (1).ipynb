{
  "nbformat": 4,
  "nbformat_minor": 0,
  "metadata": {
    "colab": {
      "name": "HW2_sheetz_Caden.ipynb",
      "provenance": [],
      "collapsed_sections": []
    },
    "kernelspec": {
      "name": "python3",
      "display_name": "Python 3"
    }
  },
  "cells": [
    {
      "cell_type": "markdown",
      "metadata": {
        "id": "bNsIruOzI4iF"
      },
      "source": [
        "## **Homework 2**\n",
        "\n",
        "### Create a copy of the notebook to start answering the questions. Name your notebook in the format HW2_lastname_firstname.ipynb to facilitate the grading process. \n",
        "\n",
        "### Answer all the questions, test your code to ensure there are no errors and the results are as expected. Once you have answered all the questions, save the final copy, then go to File-> click on Download.ipynb. Once the local copy has been downloaded, submit your file on Blackboard under the corresponding assignment section. Also provide us a link to your notebook during submission. \n",
        "\n",
        "### **The due date of this homework is 02/12/2021 (Friday).**\n",
        "\n",
        "### Please ensure you follow all the steps mentioned in the homework.\n",
        "\n",
        "### All the questions have a sample input and output to help you understand the question.\n",
        "\n",
        "### You can submit your solutions any number of times until the deadline.\n"
      ]
    },
    {
      "cell_type": "markdown",
      "metadata": {
        "id": "U3Yz3s2uio1F"
      },
      "source": [
        "**Q1. Lets consider your data is like the below cell:**\n",
        "\n",
        "**Q1-1**: Write a program that create a dataframe from the data.\n",
        "\n",
        "**Q1-2:** Select people that are psychologist or teacher and their number of cars is greater than their family size.\n",
        "\n",
        "**Q1-3:** Select people who have at most 2 family members and at least 1 car.\n",
        "\n",
        "**Q1-4:** Write a code that get number of unique jobs in this dataset.\n",
        "\n",
        "\n",
        "\n"
      ]
    },
    {
      "cell_type": "code",
      "metadata": {
        "id": "yR8lcOtcjxXD"
      },
      "source": [
        "data = {\"name\": [\"Joseph\", \"Jacob\", \"Sam\", \"Jesee\", \"Ryan\", \"Lisa\", \"Lee\"],\n",
        "        \"job\": [\"teacher\", \"psychologist\", \"data scientist\", \"software developer\", \"psychologist\", \"psychologist\", \"teacher\"],\n",
        "        \"family_size\": [3, 2, 1, 4, 2, 3, 2],\n",
        "        \"num_cars\": [3, 1, 1, 2, 2, 4, 1]}"
      ],
      "execution_count": null,
      "outputs": []
    },
    {
      "cell_type": "code",
      "metadata": {
        "id": "Youi5qMaP34p"
      },
      "source": [
        "# Type your solution here\n",
        "import numpy as np \n",
        "import pandas as pd "
      ],
      "execution_count": null,
      "outputs": []
    },
    {
      "cell_type": "code",
      "metadata": {
        "id": "MRgwYR5Qt_kb",
        "colab": {
          "base_uri": "https://localhost:8080/"
        },
        "outputId": "5858af00-0c54-41af-e290-fe30c1c09395"
      },
      "source": [
        "# Q1-1 \n",
        "df = pd.DataFrame(data)\n",
        "print(df)\n"
      ],
      "execution_count": null,
      "outputs": [
        {
          "output_type": "stream",
          "text": [
            "     name                 job  family_size  num_cars\n",
            "0  Joseph             teacher            3         3\n",
            "1   Jacob        psychologist            2         1\n",
            "2     Sam      data scientist            1         1\n",
            "3   Jesee  software developer            4         2\n",
            "4    Ryan        psychologist            2         2\n",
            "5    Lisa        psychologist            3         4\n",
            "6     Lee             teacher            2         1\n"
          ],
          "name": "stdout"
        }
      ]
    },
    {
      "cell_type": "code",
      "metadata": {
        "id": "gpaqCxnU0cjV",
        "colab": {
          "base_uri": "https://localhost:8080/"
        },
        "outputId": "b29b2715-d50e-44f0-c252-4cfea227b66a"
      },
      "source": [
        "#Q1-2 \n",
        "print(df[(df.job==\"teacher\") & (df.num_cars > df.family_size) | (df.job==\"psychologist\") & (df.num_cars > df.family_size)])\n"
      ],
      "execution_count": null,
      "outputs": [
        {
          "output_type": "stream",
          "text": [
            "   name           job  family_size  num_cars\n",
            "5  Lisa  psychologist            3         4\n"
          ],
          "name": "stdout"
        }
      ]
    },
    {
      "cell_type": "code",
      "metadata": {
        "id": "MY4cTwDC0mLT",
        "colab": {
          "base_uri": "https://localhost:8080/"
        },
        "outputId": "f818f3f8-fa5f-4b7e-8f92-3ba54eca0e76"
      },
      "source": [
        "#Q1-3\n",
        "print(df[(df.family_size<=2) & (df.num_cars>=1)])"
      ],
      "execution_count": null,
      "outputs": [
        {
          "output_type": "stream",
          "text": [
            "    name             job  family_size  num_cars\n",
            "1  Jacob    psychologist            2         1\n",
            "2    Sam  data scientist            1         1\n",
            "4   Ryan    psychologist            2         2\n",
            "6    Lee         teacher            2         1\n"
          ],
          "name": "stdout"
        }
      ]
    },
    {
      "cell_type": "code",
      "metadata": {
        "id": "BJAVr5O91563"
      },
      "source": [
        "#Q1-4\n",
        "unique_jobs = df.job.unique()\n",
        "#print(unique_jobs)\n",
        "print(\"The number of unique jobs is \"+str(len(unique_jobs)))"
      ],
      "execution_count": null,
      "outputs": []
    },
    {
      "cell_type": "markdown",
      "metadata": {
        "id": "Ow6nG8k4l91X"
      },
      "source": [
        "**Q2. Lets consider you have two series like the below cell. Compute the mean of weights of each fruit.**"
      ]
    },
    {
      "cell_type": "code",
      "metadata": {
        "id": "u-X_DoOzVLLB"
      },
      "source": [
        "import numpy as np\n",
        "fruit = pd.Series(np.random.choice(['apple', 'banana', 'carrot'], 10))\n",
        "weights = pd.Series(np.linspace(1, 10, 10))"
      ],
      "execution_count": null,
      "outputs": []
    },
    {
      "cell_type": "code",
      "metadata": {
        "id": "S419nzYnpU__"
      },
      "source": [
        "# Type your solution here\n",
        "#Q2\n",
        "df = pd.DataFrame({\"fruit\":fruit,\"weights\":weights})\n",
        "mean_weights = df.groupby(\"fruit\").mean()\n",
        "print(mean_weights)"
      ],
      "execution_count": null,
      "outputs": []
    },
    {
      "cell_type": "markdown",
      "metadata": {
        "id": "g4lKaPIhtVrt"
      },
      "source": [
        "**Q3. Consider the below course_name array:**\n",
        "\n",
        "**Q3-1**: Write a NumPy program to get the indices of the sorted elements of **course_name** array.\n",
        "\n",
        "**Q3-2:** Write numpy code to check whether each element of **course_name** array starts with \"P\".\n"
      ]
    },
    {
      "cell_type": "code",
      "metadata": {
        "id": "RUP_jp2KtVrx"
      },
      "source": [
        "import numpy as np\n",
        "course_name = np.array(['Python', 'JS', 'examples', 'PHP', 'html'])"
      ],
      "execution_count": null,
      "outputs": []
    },
    {
      "cell_type": "code",
      "metadata": {
        "id": "U1i27POxv-o_"
      },
      "source": [
        "# Type your solution here \n",
        "#Q3-1\n",
        "sortedArray = np.argsort(course_name)\n",
        "print(\"The indices of the sorted elements of course_name are \" + str(sortedArray))\n",
        "#Q3-2\n",
        "checker = np.char.startswith(course_name, \"P\")\n",
        "print(checker)"
      ],
      "execution_count": null,
      "outputs": []
    },
    {
      "cell_type": "markdown",
      "metadata": {
        "id": "sUFItNFOxwkz"
      },
      "source": [
        "**Q4. Consider the below student_id array:**\n",
        "\n",
        "**Q4-1:** Reverse the **student_id** array. Print both original and reversed array.\n",
        "\n",
        "**Q4-2:** Get the 3-largest values of **student_id** array."
      ]
    },
    {
      "cell_type": "code",
      "metadata": {
        "id": "Rl5qzEjFv0nw"
      },
      "source": [
        "import numpy as np\n",
        "student_id = np.array([1023, 5202, 6230, 1671, 1682, 5241, 4532])"
      ],
      "execution_count": null,
      "outputs": []
    },
    {
      "cell_type": "code",
      "metadata": {
        "id": "EetvHGrUxMCC"
      },
      "source": [
        "# Type your solution here \n",
        "#Q4-1\n",
        "print(student_id)\n",
        "reversed_student_id = student_id[::-1]\n",
        "print(reversed_student_id)\n",
        "#Q4-2\n",
        "sorted_student_id = np.sort(student_id)\n",
        "#print(\"\\n\"+str(sorted_student_id))\n",
        "print(\"\\n\"+str(sorted_student_id[-3:]))"
      ],
      "execution_count": null,
      "outputs": []
    },
    {
      "cell_type": "markdown",
      "metadata": {
        "id": "uKRyDVuW6B19"
      },
      "source": [
        "# **Q5: Write a numpy program to print sum of all the multiples of 3 or 5 below 100**"
      ]
    },
    {
      "cell_type": "code",
      "metadata": {
        "id": "ZIixq1gz6OK3"
      },
      "source": [
        "# Type your solution here\n",
        "#Q-5\n",
        "import numpy as np\n",
        "ran = np.arange(1,100)\n",
        "n = ran[(ran%3 == 0) | (ran%5 == 0)]\n",
        "#print(n[:1000])\n",
        "print(\"The sum of all the multiples of 3 or 5 below 100 is: \"+str(n.sum()))\n",
        "\n",
        "# Hint: you can use arange to start off"
      ],
      "execution_count": null,
      "outputs": []
    },
    {
      "cell_type": "markdown",
      "metadata": {
        "id": "2CWJOsP24c34"
      },
      "source": [
        "**Q6. Consider the below array.**\n",
        "\n",
        "Q6.1. Write a code to swap column 1 with column 2.\n",
        "\n",
        "Q6.2. Write a code to swap row 0 with row 1."
      ]
    },
    {
      "cell_type": "code",
      "metadata": {
        "id": "3OG6X5Eg5KSM"
      },
      "source": [
        "import numpy as np\n",
        "\n",
        "arr = np.arange(12).reshape(3,4)\n",
        "print(arr)"
      ],
      "execution_count": null,
      "outputs": []
    },
    {
      "cell_type": "code",
      "metadata": {
        "id": "Q-Q91DpO5YYW"
      },
      "source": [
        "# Type your solution here\n",
        "#Q6-1\n",
        "column_1 = arr[:,[1]]\n",
        "#print(column_1)\n",
        "arr[:,[1]] = arr[:,[2]]\n",
        "arr[:,[2]]=column_1\n",
        "print(arr)"
      ],
      "execution_count": null,
      "outputs": []
    },
    {
      "cell_type": "code",
      "metadata": {
        "id": "4_BtHITcLyMH"
      },
      "source": [
        "#Q6-2\n",
        "row_0 = arr[[0],:]\n",
        "arr[[0],:] = arr[[1], :]\n",
        "arr[[1],:] = row_0\n",
        "print(arr)"
      ],
      "execution_count": null,
      "outputs": []
    }
  ]
}